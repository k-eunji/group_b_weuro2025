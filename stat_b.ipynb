{
 "cells": [
  {
   "cell_type": "code",
   "execution_count": 1,
   "id": "d7cba3e2-4b83-4770-8d6a-cfe336f28327",
   "metadata": {},
   "outputs": [
    {
     "name": "stdout",
     "output_type": "stream",
     "text": [
      "          Goals per game  Goals conceded  Shots per game  Shots on target  \\\n",
      "Spain                5.5             1.0            27.5              9.0   \n",
      "Italy                1.0             0.5            15.5              6.5   \n",
      "Portugal             0.5             3.0             5.5              1.0   \n",
      "Belgium              1.0             3.5             7.0              2.5   \n",
      "\n",
      "          Expected Goals (xG)  Big chances  Possession (%)  Pass accuracy (%)  \n",
      "Spain                   3.595          5.0            75.5               88.5  \n",
      "Italy                   1.340          1.0            45.0               77.5  \n",
      "Portugal                0.320          0.0            43.0               75.0  \n",
      "Belgium                 0.740          1.0            36.5               72.0  \n"
     ]
    }
   ],
   "source": [
    "import pandas as pd\n",
    "\n",
    "# CSV 파일 불러오기\n",
    "df = pd.read_csv('round1_2.csv')\n",
    "\n",
    "# 필요한 컬럼 이름 정리 (공백 제거 등)\n",
    "df.columns = df.columns.str.strip()\n",
    "\n",
    "# 분석할 팀 목록\n",
    "teams = ['Spain', 'Italy', 'Portugal', 'Belgium']\n",
    "\n",
    "# 결과 저장할 딕셔너리\n",
    "team_stats = {}\n",
    "\n",
    "for team in teams:\n",
    "    # 홈과 원정 경기 모두 필터링\n",
    "    home = df[df['HomeTeam'] == team]\n",
    "    away = df[df['AwayTeam'] == team]\n",
    "    \n",
    "    games_played = len(home) + len(away)\n",
    "    \n",
    "    # 통계 계산\n",
    "    goals = home['HomeGoals'].sum() + away['AwayGoals'].sum()\n",
    "    goals_conceded = home['AwayGoals'].sum() + away['HomeGoals'].sum()\n",
    "    shots = home['HomeShots'].sum() + away['AwayShots'].sum()\n",
    "    shots_on_target = home['HomeShotsOnTarget'].sum() + away['AwayShotsOnTarget'].sum()\n",
    "    xg = home['HomexG'].sum() + away['AwayxG'].sum()\n",
    "    big_chances = home['HomeBigChances'].sum() + away['AwayBigChances'].sum()\n",
    "    \n",
    "    possession = (home['HomePossession(%)'].sum() + away['AwayPossession(%)'].sum()) / games_played\n",
    "    pass_accuracy = (home['HomePasses(%)'].sum() + away['AwayPasses(%)'].sum()) / games_played\n",
    "    \n",
    "    team_stats[team] = {\n",
    "        'Goals per game': round(goals / games_played, 2),\n",
    "        'Goals conceded': round(goals_conceded / games_played, 2),\n",
    "        'Shots per game': round(shots / games_played, 2),\n",
    "        'Shots on target': round(shots_on_target / games_played, 2),\n",
    "        'Expected Goals (xG)': round(xg / games_played, 3),\n",
    "        'Big chances': round(big_chances / games_played, 2),\n",
    "        'Possession (%)': round(possession, 1),\n",
    "        'Pass accuracy (%)': round(pass_accuracy, 1)\n",
    "    }\n",
    "\n",
    "# 결과 출력\n",
    "stats_a= pd.DataFrame(team_stats).T\n",
    "print(stats_a)\n",
    "\n",
    "stats_a.to_csv(\"stats_b.csv\")\n"
   ]
  },
  {
   "cell_type": "code",
   "execution_count": null,
   "id": "b51c084d-0058-45a3-b721-e625e702b1cd",
   "metadata": {},
   "outputs": [],
   "source": []
  }
 ],
 "metadata": {
  "kernelspec": {
   "display_name": "Python [conda env:base] *",
   "language": "python",
   "name": "conda-base-py"
  },
  "language_info": {
   "codemirror_mode": {
    "name": "ipython",
    "version": 3
   },
   "file_extension": ".py",
   "mimetype": "text/x-python",
   "name": "python",
   "nbconvert_exporter": "python",
   "pygments_lexer": "ipython3",
   "version": "3.12.3"
  }
 },
 "nbformat": 4,
 "nbformat_minor": 5
}
